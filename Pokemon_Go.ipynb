{
  "nbformat": 4,
  "nbformat_minor": 0,
  "metadata": {
    "colab": {
      "name": "Pokemon_Go.ipynb",
      "provenance": [],
      "collapsed_sections": [],
      "authorship_tag": "ABX9TyO8MUEuazYelFy3tKEdn/Bz",
      "include_colab_link": true
    },
    "kernelspec": {
      "name": "python3",
      "display_name": "Python 3"
    },
    "language_info": {
      "name": "python"
    }
  },
  "cells": [
    {
      "cell_type": "markdown",
      "metadata": {
        "id": "view-in-github",
        "colab_type": "text"
      },
      "source": [
        "<a href=\"https://colab.research.google.com/github/pgcd2296/Pokemon_GO/blob/main/Pokemon_Go.ipynb\" target=\"_parent\"><img src=\"https://colab.research.google.com/assets/colab-badge.svg\" alt=\"Open In Colab\"/></a>"
      ]
    },
    {
      "cell_type": "markdown",
      "source": [
        "# Train.csv"
      ],
      "metadata": {
        "id": "md0BvSWJHBLv"
      }
    },
    {
      "cell_type": "code",
      "execution_count": 1,
      "metadata": {
        "id": "I8R9fNs1yN5G"
      },
      "outputs": [],
      "source": [
        "import pandas as pd\n",
        "import numpy as np\n",
        "\n",
        "import matplotlib.pyplot as plt\n",
        "import seaborn as sns\n",
        "\n",
        "from sklearn.preprocessing import StandardScaler\n",
        "from sklearn.decomposition import PCA \n",
        "from sklearn.metrics import classification_report\n",
        "from sklearn.model_selection import cross_val_score, train_test_split\n",
        "from sklearn.tree import DecisionTreeClassifier\n",
        "from sklearn.ensemble import RandomForestClassifier, ExtraTreesClassifier\n",
        "from sklearn.metrics import confusion_matrix\n",
        "from sklearn import metrics\n",
        "from sklearn import tree\n",
        "from imblearn.over_sampling import SMOTE"
      ]
    },
    {
      "cell_type": "code",
      "source": [
        "from google.colab import drive\n",
        "drive.mount('/content/drive')"
      ],
      "metadata": {
        "colab": {
          "base_uri": "https://localhost:8080/"
        },
        "id": "N8k2TWKsyXsx",
        "outputId": "60fa007d-228d-4d92-80ba-45c68c4e55b5"
      },
      "execution_count": 2,
      "outputs": [
        {
          "output_type": "stream",
          "name": "stdout",
          "text": [
            "Drive already mounted at /content/drive; to attempt to forcibly remount, call drive.mount(\"/content/drive\", force_remount=True).\n"
          ]
        }
      ]
    },
    {
      "cell_type": "code",
      "source": [
        "df = pd.read_csv('/content/drive/MyDrive/Pokemon/train.csv')"
      ],
      "metadata": {
        "id": "C8JMewuWybSz"
      },
      "execution_count": 3,
      "outputs": []
    },
    {
      "cell_type": "code",
      "source": [
        "df.info()"
      ],
      "metadata": {
        "colab": {
          "base_uri": "https://localhost:8080/"
        },
        "id": "F1imh8GG0Afq",
        "outputId": "8e16f0f6-b169-4398-d74d-394e6a079102"
      },
      "execution_count": 4,
      "outputs": [
        {
          "output_type": "stream",
          "name": "stdout",
          "text": [
            "<class 'pandas.core.frame.DataFrame'>\n",
            "RangeIndex: 30003 entries, 0 to 30002\n",
            "Columns: 208 entries, pokemonId to class\n",
            "dtypes: bool(168), float64(8), int64(17), object(8), uint64(7)\n",
            "memory usage: 14.0+ MB\n"
          ]
        }
      ]
    },
    {
      "cell_type": "code",
      "source": [
        "def covert_binary (dt): \n",
        "    '''Convert all True and False into binary'''\n",
        "\n",
        "    dt.replace({False: 0, True: 1}, inplace=True)\n",
        "\n",
        "    return dt"
      ],
      "metadata": {
        "id": "JXiC8vmfzBje"
      },
      "execution_count": 5,
      "outputs": []
    },
    {
      "cell_type": "code",
      "source": [
        "data = covert_binary(df)"
      ],
      "metadata": {
        "id": "KFJQtiCi0g_D"
      },
      "execution_count": 6,
      "outputs": []
    },
    {
      "cell_type": "code",
      "source": [
        "def data_dummies (dt): \n",
        "    ''' Creating dummies to fit categorical data into our model'''\n",
        "\n",
        "    new = dt[['appearedTimeOfDay','appearedDayOfWeek','city','continent','weather','weatherIcon']]\n",
        "    df_categ_dummies = pd.get_dummies(new,drop_first=True)\n",
        "    dt.drop(['appearedTimeOfDay','appearedDayOfWeek','city','continent','weather','weatherIcon'], axis = 1, inplace = True)\n",
        "    join = pd.concat([dt,df_categ_dummies], axis=1)\n",
        "    \n",
        "    \n",
        "    return join"
      ],
      "metadata": {
        "id": "F4vFJod-25ty"
      },
      "execution_count": 7,
      "outputs": []
    },
    {
      "cell_type": "code",
      "source": [
        "poke = data_dummies(data)"
      ],
      "metadata": {
        "id": "0B1rGdwHA-xF"
      },
      "execution_count": 8,
      "outputs": []
    },
    {
      "cell_type": "code",
      "source": [
        "def model_prep (dt): \n",
        "    '''Dropping ID columns and full date'''\n",
        "\n",
        "    dt.drop(['pokemonId','appearedLocalTime','_id'], axis = 1, inplace = True)\n",
        " \n",
        "    return dt"
      ],
      "metadata": {
        "id": "NRoIUsFzIa-x"
      },
      "execution_count": 9,
      "outputs": []
    },
    {
      "cell_type": "code",
      "source": [
        "pokemon = model_prep(poke)"
      ],
      "metadata": {
        "id": "VkxZSrhTNrkU"
      },
      "execution_count": 10,
      "outputs": []
    },
    {
      "cell_type": "code",
      "source": [
        "def ss_columns (dt): \n",
        "    '''Selecting columns for Standar Scaler'''\n",
        "\n",
        "    sc = dt[['windSpeed','population_density','gymDistanceKm', 'pokestopDistanceKm','temperature','pressure']]\n",
        " \n",
        "    return sc"
      ],
      "metadata": {
        "id": "JV6aXyoBq5v3"
      },
      "execution_count": 11,
      "outputs": []
    },
    {
      "cell_type": "code",
      "source": [
        "pokemon_ss = ss_columns(pokemon)"
      ],
      "metadata": {
        "id": "lNin9eTHrJWM"
      },
      "execution_count": 12,
      "outputs": []
    },
    {
      "cell_type": "code",
      "source": [
        "def drop_to_prep (dt): \n",
        "    '''Dropping pokemon_ss, dropping time columns that can create collinearity and dropping cellid columns  '''\n",
        "\n",
        "    dt.drop(['cellId_90m',\t'cellId_180m',\t'cellId_370m',\t'cellId_730m',\t'cellId_1460m',\t'cellId_2920m',\t'cellId_5850m','windBearing','latitude', 'longitude', 'terrainType','sunriseMinutesMidnight','sunriseHour','sunriseMinute','sunriseMinutesSince','sunsetMinutesMidnight','sunsetHour','sunsetMinute','sunsetMinutesBefore','appearedTimeOfDay_evening','appearedTimeOfDay_morning','appearedTimeOfDay_night','appearedDayOfWeek_Saturday','appearedDayOfWeek_Sunday','appearedDayOfWeek_Thursday','appearedDayOfWeek_Tuesday','appearedDayOfWeek_Wednesday','appearedDayOfWeek_dummy_day','windSpeed','population_density','gymDistanceKm', 'pokestopDistanceKm','temperature','pressure'], axis = 1, inplace = True)\n",
        "    \n",
        "    return dt"
      ],
      "metadata": {
        "id": "yMmS5g9or138"
      },
      "execution_count": 13,
      "outputs": []
    },
    {
      "cell_type": "code",
      "source": [
        "pokemon = drop_to_prep(pokemon)"
      ],
      "metadata": {
        "id": "ImroJ1Yxsr6p"
      },
      "execution_count": 14,
      "outputs": []
    },
    {
      "cell_type": "code",
      "source": [
        "def pokemon_scaler (dt): \n",
        "    '''Using standard scaler to standarize columns'''\n",
        "\n",
        "    ss = StandardScaler()\n",
        "    df_scaled = pd.DataFrame(ss.fit_transform(dt),columns = dt.columns)\n",
        "    \n",
        "    return df_scaled"
      ],
      "metadata": {
        "id": "QeZxP9AYA7ta"
      },
      "execution_count": 15,
      "outputs": []
    },
    {
      "cell_type": "code",
      "source": [
        "pokemon_standard = pokemon_scaler(pokemon_ss)"
      ],
      "metadata": {
        "id": "ZAxeOSvEBSrO"
      },
      "execution_count": 16,
      "outputs": []
    },
    {
      "cell_type": "code",
      "source": [
        "def concat_data (dt): \n",
        "    '''Concatenating standarized data with rest of dataframe'''\n",
        "\n",
        "    conc = pd.concat([pokemon,dt], axis=1)\n",
        "    \n",
        "    return conc"
      ],
      "metadata": {
        "id": "QL18ic09FO4z"
      },
      "execution_count": 17,
      "outputs": []
    },
    {
      "cell_type": "code",
      "source": [
        "pokemon_concat = concat_data(pokemon_standard)"
      ],
      "metadata": {
        "id": "63knss3NGDxV"
      },
      "execution_count": 18,
      "outputs": []
    },
    {
      "cell_type": "code",
      "source": [
        "def drop_class (dt): \n",
        "    '''Drop class for PCA & Classifier'''\n",
        "\n",
        "    dt.drop(columns=['class'], axis = 1, inplace = True)\n",
        "    \n",
        "    return dt"
      ],
      "metadata": {
        "id": "t3P-yNDvGxOc"
      },
      "execution_count": 19,
      "outputs": []
    },
    {
      "cell_type": "code",
      "source": [
        "pokemon_concat = drop_class(pokemon_concat)"
      ],
      "metadata": {
        "id": "YF9eHak0HITG"
      },
      "execution_count": 20,
      "outputs": []
    },
    {
      "cell_type": "code",
      "source": [
        "def Full_PCA (dt): \n",
        "    '''Entire PCA process'''\n",
        "\n",
        "    pca = PCA().fit(dt)\n",
        "    pca.n_components_\n",
        "    pca = PCA(n_components=10).fit(dt)\n",
        "    transformacion = pca.transform(dt)\n",
        "    df_transformado = pd.DataFrame(transformacion)\n",
        "    \n",
        "    return df_transformado"
      ],
      "metadata": {
        "id": "D1Rn9x-hIK4I"
      },
      "execution_count": 21,
      "outputs": []
    },
    {
      "cell_type": "code",
      "source": [
        " df_transform = Full_PCA(pokemon_concat) "
      ],
      "metadata": {
        "id": "LJbYTTkYInOX"
      },
      "execution_count": 22,
      "outputs": []
    },
    {
      "cell_type": "code",
      "source": [
        "X = df_transform\n",
        "y = pokemon['class']"
      ],
      "metadata": {
        "id": "ywH9hpqwdFKY"
      },
      "execution_count": 23,
      "outputs": []
    },
    {
      "cell_type": "code",
      "source": [
        "sm = SMOTE() \n",
        "X_os,y_os= sm.fit_resample(X, y)"
      ],
      "metadata": {
        "id": "qyUU9fK4dFKZ"
      },
      "execution_count": 24,
      "outputs": []
    },
    {
      "cell_type": "code",
      "source": [
        "x_train, x_test, y_train, y_test = train_test_split(X_os, y_os, \n",
        "                                                    test_size=0.35)"
      ],
      "metadata": {
        "id": "rBnHMTHIdFKa"
      },
      "execution_count": 25,
      "outputs": []
    },
    {
      "cell_type": "code",
      "source": [
        "forest = RandomForestClassifier()\n",
        "forest.fit(x_train, y_train)"
      ],
      "metadata": {
        "colab": {
          "base_uri": "https://localhost:8080/"
        },
        "outputId": "f99bcea7-dff2-4d4d-a9b2-0b6dfaf850d6",
        "id": "pfnpzNQOdFKa"
      },
      "execution_count": 26,
      "outputs": [
        {
          "output_type": "execute_result",
          "data": {
            "text/plain": [
              "RandomForestClassifier()"
            ]
          },
          "metadata": {},
          "execution_count": 26
        }
      ]
    },
    {
      "cell_type": "code",
      "source": [
        "y_pred = forest.predict(x_test)\n",
        "df_predict = pd.DataFrame({'Actual': y_test, 'Predicted': y_pred})"
      ],
      "metadata": {
        "id": "VtP04sHWdFKa"
      },
      "execution_count": 27,
      "outputs": []
    },
    {
      "cell_type": "code",
      "source": [
        "uniqueValues = df_predict['Predicted'].unique() "
      ],
      "metadata": {
        "id": "HxOd0f81dFKb"
      },
      "execution_count": 28,
      "outputs": []
    },
    {
      "cell_type": "code",
      "source": [
        "class_names = ['19',  '96',  '16',  '10',  '13', '129',  '41',  '23',  '43', '133']\n",
        "print(classification_report(y_test, y_pred, target_names=class_names))"
      ],
      "metadata": {
        "colab": {
          "base_uri": "https://localhost:8080/"
        },
        "outputId": "1be8366d-3059-4f0f-80e1-cbc5679202b3",
        "id": "HPadYj55dFKb"
      },
      "execution_count": 29,
      "outputs": [
        {
          "output_type": "stream",
          "name": "stdout",
          "text": [
            "              precision    recall  f1-score   support\n",
            "\n",
            "          19       1.00      1.00      1.00      5598\n",
            "          96       0.95      1.00      0.97      5680\n",
            "          16       0.93      0.88      0.91      5547\n",
            "          10       0.93      0.89      0.91      5655\n",
            "          13       0.99      1.00      0.99      5576\n",
            "         129       0.99      1.00      1.00      5486\n",
            "          41       1.00      1.00      1.00      5668\n",
            "          23       0.99      1.00      0.99      5642\n",
            "          43       0.99      1.00      1.00      5576\n",
            "         133       0.99      1.00      1.00      5677\n",
            "\n",
            "    accuracy                           0.98     56105\n",
            "   macro avg       0.98      0.98      0.98     56105\n",
            "weighted avg       0.98      0.98      0.98     56105\n",
            "\n"
          ]
        }
      ]
    },
    {
      "cell_type": "markdown",
      "source": [
        "# Test.csv"
      ],
      "metadata": {
        "id": "VWlyjfl9mx7o"
      }
    },
    {
      "cell_type": "code",
      "source": [
        "test = pd.read_csv('/content/drive/MyDrive/Pokemon/test.csv')"
      ],
      "metadata": {
        "id": "9yB73YvCm2gO"
      },
      "execution_count": 30,
      "outputs": []
    },
    {
      "cell_type": "code",
      "source": [
        "data2 = covert_binary(test)"
      ],
      "metadata": {
        "id": "fyoLxHLA1wFf"
      },
      "execution_count": 31,
      "outputs": []
    },
    {
      "cell_type": "code",
      "source": [
        "poke2 = data_dummies(data2)"
      ],
      "metadata": {
        "id": "fcLFVdjh1wYt"
      },
      "execution_count": 32,
      "outputs": []
    },
    {
      "cell_type": "code",
      "source": [
        "poke2.drop(['appearedLocalTime','_id'], axis = 1, inplace = True)"
      ],
      "metadata": {
        "id": "XE0awaauHdFB"
      },
      "execution_count": 33,
      "outputs": []
    },
    {
      "cell_type": "code",
      "source": [
        "pokemon2 = poke2"
      ],
      "metadata": {
        "id": "ZPx-ahyZu2W0"
      },
      "execution_count": 34,
      "outputs": []
    },
    {
      "cell_type": "code",
      "source": [
        "pokemon2_ss = ss_columns(pokemon2)"
      ],
      "metadata": {
        "id": "T4GFvLCzHds_"
      },
      "execution_count": 35,
      "outputs": []
    },
    {
      "cell_type": "code",
      "source": [
        "pokemon2 = drop_to_prep(pokemon2)"
      ],
      "metadata": {
        "id": "W4XDZI8NE2NG"
      },
      "execution_count": 36,
      "outputs": []
    },
    {
      "cell_type": "code",
      "source": [
        "pokemon_standard2 = pokemon_scaler(pokemon2_ss)"
      ],
      "metadata": {
        "id": "WFB8lZg8E2z-"
      },
      "execution_count": 37,
      "outputs": []
    },
    {
      "cell_type": "code",
      "source": [
        "pokemon_concat2 = concat_data(pokemon_standard2)"
      ],
      "metadata": {
        "id": "z4AP3MfUMYF4"
      },
      "execution_count": 38,
      "outputs": []
    },
    {
      "cell_type": "code",
      "source": [
        "pokemon_concat2 = drop_class(pokemon_concat2)"
      ],
      "metadata": {
        "id": "DkcrlU8c0UTP"
      },
      "execution_count": 39,
      "outputs": []
    },
    {
      "cell_type": "code",
      "source": [
        "def clean_dataset(df):\n",
        "    \"Correcting inf values\"\n",
        "    assert isinstance(df, pd.DataFrame), \"df needs to be a pd.DataFrame\"\n",
        "    df.dropna(inplace=True)\n",
        "    indices_to_keep = ~df.isin([np.nan, np.inf, -np.inf]).any(1)\n",
        "    return df[indices_to_keep].astype(np.float64)"
      ],
      "metadata": {
        "id": "-CXc5wyD1WIq"
      },
      "execution_count": 40,
      "outputs": []
    },
    {
      "cell_type": "code",
      "source": [
        "pokemon_concat_clean =  clean_dataset(pokemon_concat2)"
      ],
      "metadata": {
        "id": "0ohnjoPK1ZR5"
      },
      "execution_count": 41,
      "outputs": []
    },
    {
      "cell_type": "code",
      "source": [
        "df_transform2 = Full_PCA(pokemon_concat_clean) "
      ],
      "metadata": {
        "id": "g1nNhy10MYTc"
      },
      "execution_count": 42,
      "outputs": []
    },
    {
      "cell_type": "code",
      "source": [
        "y_pred = forest.predict(df_transform2)"
      ],
      "metadata": {
        "id": "YBguOHLUE2_w"
      },
      "execution_count": 43,
      "outputs": []
    },
    {
      "cell_type": "code",
      "source": [
        "df_predicted = pd.DataFrame({'Predicted': y_pred})"
      ],
      "metadata": {
        "id": "rE_Ap3-c5Dm6"
      },
      "execution_count": 44,
      "outputs": []
    },
    {
      "cell_type": "code",
      "source": [
        "def pred_csv(dt):\n",
        "    '''Exporting test model to csv'''\n",
        "    dt.to_csv('pred.csv')\n",
        "\n",
        "    return dt"
      ],
      "metadata": {
        "id": "C3O2EhKjFLxR"
      },
      "execution_count": 45,
      "outputs": []
    },
    {
      "cell_type": "code",
      "source": [
        "pred_csv(df_predicted) "
      ],
      "metadata": {
        "id": "nRo8eGznG0wE",
        "colab": {
          "base_uri": "https://localhost:8080/",
          "height": 423
        },
        "outputId": "af47326d-0357-4b47-b962-e522f08d88eb"
      },
      "execution_count": 46,
      "outputs": [
        {
          "output_type": "execute_result",
          "data": {
            "text/plain": [
              "       Predicted\n",
              "0             16\n",
              "1            133\n",
              "2             16\n",
              "3             16\n",
              "4             16\n",
              "...          ...\n",
              "9997          96\n",
              "9998          16\n",
              "9999          16\n",
              "10000         16\n",
              "10001         16\n",
              "\n",
              "[10002 rows x 1 columns]"
            ],
            "text/html": [
              "\n",
              "  <div id=\"df-48bd8add-5388-4915-b750-a17beaa4208c\">\n",
              "    <div class=\"colab-df-container\">\n",
              "      <div>\n",
              "<style scoped>\n",
              "    .dataframe tbody tr th:only-of-type {\n",
              "        vertical-align: middle;\n",
              "    }\n",
              "\n",
              "    .dataframe tbody tr th {\n",
              "        vertical-align: top;\n",
              "    }\n",
              "\n",
              "    .dataframe thead th {\n",
              "        text-align: right;\n",
              "    }\n",
              "</style>\n",
              "<table border=\"1\" class=\"dataframe\">\n",
              "  <thead>\n",
              "    <tr style=\"text-align: right;\">\n",
              "      <th></th>\n",
              "      <th>Predicted</th>\n",
              "    </tr>\n",
              "  </thead>\n",
              "  <tbody>\n",
              "    <tr>\n",
              "      <th>0</th>\n",
              "      <td>16</td>\n",
              "    </tr>\n",
              "    <tr>\n",
              "      <th>1</th>\n",
              "      <td>133</td>\n",
              "    </tr>\n",
              "    <tr>\n",
              "      <th>2</th>\n",
              "      <td>16</td>\n",
              "    </tr>\n",
              "    <tr>\n",
              "      <th>3</th>\n",
              "      <td>16</td>\n",
              "    </tr>\n",
              "    <tr>\n",
              "      <th>4</th>\n",
              "      <td>16</td>\n",
              "    </tr>\n",
              "    <tr>\n",
              "      <th>...</th>\n",
              "      <td>...</td>\n",
              "    </tr>\n",
              "    <tr>\n",
              "      <th>9997</th>\n",
              "      <td>96</td>\n",
              "    </tr>\n",
              "    <tr>\n",
              "      <th>9998</th>\n",
              "      <td>16</td>\n",
              "    </tr>\n",
              "    <tr>\n",
              "      <th>9999</th>\n",
              "      <td>16</td>\n",
              "    </tr>\n",
              "    <tr>\n",
              "      <th>10000</th>\n",
              "      <td>16</td>\n",
              "    </tr>\n",
              "    <tr>\n",
              "      <th>10001</th>\n",
              "      <td>16</td>\n",
              "    </tr>\n",
              "  </tbody>\n",
              "</table>\n",
              "<p>10002 rows × 1 columns</p>\n",
              "</div>\n",
              "      <button class=\"colab-df-convert\" onclick=\"convertToInteractive('df-48bd8add-5388-4915-b750-a17beaa4208c')\"\n",
              "              title=\"Convert this dataframe to an interactive table.\"\n",
              "              style=\"display:none;\">\n",
              "        \n",
              "  <svg xmlns=\"http://www.w3.org/2000/svg\" height=\"24px\"viewBox=\"0 0 24 24\"\n",
              "       width=\"24px\">\n",
              "    <path d=\"M0 0h24v24H0V0z\" fill=\"none\"/>\n",
              "    <path d=\"M18.56 5.44l.94 2.06.94-2.06 2.06-.94-2.06-.94-.94-2.06-.94 2.06-2.06.94zm-11 1L8.5 8.5l.94-2.06 2.06-.94-2.06-.94L8.5 2.5l-.94 2.06-2.06.94zm10 10l.94 2.06.94-2.06 2.06-.94-2.06-.94-.94-2.06-.94 2.06-2.06.94z\"/><path d=\"M17.41 7.96l-1.37-1.37c-.4-.4-.92-.59-1.43-.59-.52 0-1.04.2-1.43.59L10.3 9.45l-7.72 7.72c-.78.78-.78 2.05 0 2.83L4 21.41c.39.39.9.59 1.41.59.51 0 1.02-.2 1.41-.59l7.78-7.78 2.81-2.81c.8-.78.8-2.07 0-2.86zM5.41 20L4 18.59l7.72-7.72 1.47 1.35L5.41 20z\"/>\n",
              "  </svg>\n",
              "      </button>\n",
              "      \n",
              "  <style>\n",
              "    .colab-df-container {\n",
              "      display:flex;\n",
              "      flex-wrap:wrap;\n",
              "      gap: 12px;\n",
              "    }\n",
              "\n",
              "    .colab-df-convert {\n",
              "      background-color: #E8F0FE;\n",
              "      border: none;\n",
              "      border-radius: 50%;\n",
              "      cursor: pointer;\n",
              "      display: none;\n",
              "      fill: #1967D2;\n",
              "      height: 32px;\n",
              "      padding: 0 0 0 0;\n",
              "      width: 32px;\n",
              "    }\n",
              "\n",
              "    .colab-df-convert:hover {\n",
              "      background-color: #E2EBFA;\n",
              "      box-shadow: 0px 1px 2px rgba(60, 64, 67, 0.3), 0px 1px 3px 1px rgba(60, 64, 67, 0.15);\n",
              "      fill: #174EA6;\n",
              "    }\n",
              "\n",
              "    [theme=dark] .colab-df-convert {\n",
              "      background-color: #3B4455;\n",
              "      fill: #D2E3FC;\n",
              "    }\n",
              "\n",
              "    [theme=dark] .colab-df-convert:hover {\n",
              "      background-color: #434B5C;\n",
              "      box-shadow: 0px 1px 3px 1px rgba(0, 0, 0, 0.15);\n",
              "      filter: drop-shadow(0px 1px 2px rgba(0, 0, 0, 0.3));\n",
              "      fill: #FFFFFF;\n",
              "    }\n",
              "  </style>\n",
              "\n",
              "      <script>\n",
              "        const buttonEl =\n",
              "          document.querySelector('#df-48bd8add-5388-4915-b750-a17beaa4208c button.colab-df-convert');\n",
              "        buttonEl.style.display =\n",
              "          google.colab.kernel.accessAllowed ? 'block' : 'none';\n",
              "\n",
              "        async function convertToInteractive(key) {\n",
              "          const element = document.querySelector('#df-48bd8add-5388-4915-b750-a17beaa4208c');\n",
              "          const dataTable =\n",
              "            await google.colab.kernel.invokeFunction('convertToInteractive',\n",
              "                                                     [key], {});\n",
              "          if (!dataTable) return;\n",
              "\n",
              "          const docLinkHtml = 'Like what you see? Visit the ' +\n",
              "            '<a target=\"_blank\" href=https://colab.research.google.com/notebooks/data_table.ipynb>data table notebook</a>'\n",
              "            + ' to learn more about interactive tables.';\n",
              "          element.innerHTML = '';\n",
              "          dataTable['output_type'] = 'display_data';\n",
              "          await google.colab.output.renderOutput(dataTable, element);\n",
              "          const docLink = document.createElement('div');\n",
              "          docLink.innerHTML = docLinkHtml;\n",
              "          element.appendChild(docLink);\n",
              "        }\n",
              "      </script>\n",
              "    </div>\n",
              "  </div>\n",
              "  "
            ]
          },
          "metadata": {},
          "execution_count": 46
        }
      ]
    }
  ]
}